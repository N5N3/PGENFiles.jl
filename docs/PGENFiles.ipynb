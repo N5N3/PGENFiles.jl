{
 "cells": [
  {
   "cell_type": "markdown",
   "id": "6dfa6654",
   "metadata": {},
   "source": [
    "# PGENFiles.jl\n",
    "\n",
    "Routines for reading compressed storage of genotyped or imputed markers\n",
    "\n",
    "[*Genome-wide association studies (GWAS)*](https://en.wikipedia.org/wiki/Genome-wide_association_study) data with imputed markers are often saved in the [**PGEN format**](https://www.cog-genomics.org/plink/2.0/input#pgen) in `.pgen` file.\n",
    "It can store both hard calls and imputed data, unphased genotypes and phased haplotypes. Each variant is compressed separately. This is the central data format for [PLINK 2](https://www.cog-genomics.org/plink/2.0/). \n",
    "\n",
    "## Format description\n",
    "\n"
   ]
  },
  {
   "cell_type": "markdown",
   "id": "bbe0a08e",
   "metadata": {},
   "source": [
    "## Installation\n",
    "\n",
    "This package requires Julia v1.6 or later, which can be obtained from\n",
    "https://julialang.org/downloads/ or by building Julia from the sources in the\n",
    "https://github.com/JuliaLang/julia repository.\n",
    "\n",
    "\n",
    "This package is registered in the default Julia package registry, and can be installed through standard package installation procedure: e.g., running the following code in Julia REPL.\n",
    "```julia\n",
    "using Pkg\n",
    "pkg\"add https://github.com/OpenMendel/PGENFiles.jl\"\n",
    "```\n"
   ]
  },
  {
   "cell_type": "code",
   "execution_count": 1,
   "id": "3c4a6127",
   "metadata": {},
   "outputs": [
    {
     "name": "stdout",
     "output_type": "stream",
     "text": [
      "Julia Version 1.7.1\n",
      "Commit ac5cc99908 (2021-12-22 19:35 UTC)\n",
      "Platform Info:\n",
      "  OS: macOS (x86_64-apple-darwin19.5.0)\n",
      "  CPU: Intel(R) Core(TM) i7-7820HQ CPU @ 2.90GHz\n",
      "  WORD_SIZE: 64\n",
      "  LIBM: libopenlibm\n",
      "  LLVM: libLLVM-12.0.1 (ORCJIT, skylake)\n"
     ]
    }
   ],
   "source": [
    "versioninfo()"
   ]
  },
  {
   "cell_type": "markdown",
   "id": "3e659ae8",
   "metadata": {},
   "source": [
    "## Type `Pgen`\n",
    "\n",
    "The type `Pgen` is the fundamental type for .pgen-formatted files. It can be created using the following line.\n",
    "\n"
   ]
  },
  {
   "cell_type": "code",
   "execution_count": 2,
   "id": "33db8091",
   "metadata": {},
   "outputs": [],
   "source": [
    "using PGENFiles\n",
    "p = Pgen(PGENFiles.datadir(\"bgen_example.16bits.pgen\")) ;"
   ]
  },
  {
   "cell_type": "markdown",
   "id": "4538070b",
   "metadata": {},
   "source": [
    "This example file is a PGEN file converted from a BGEN file."
   ]
  },
  {
   "cell_type": "markdown",
   "id": "e24e5946",
   "metadata": {},
   "source": [
    "Number of variants and samples in the file is accessible with the functions `n_variants()` and `n_samples()`. "
   ]
  },
  {
   "cell_type": "code",
   "execution_count": 3,
   "id": "07102d38",
   "metadata": {},
   "outputs": [
    {
     "name": "stdout",
     "output_type": "stream",
     "text": [
      "199\n"
     ]
    }
   ],
   "source": [
    "println(n_variants(p))"
   ]
  },
  {
   "cell_type": "code",
   "execution_count": 4,
   "id": "458230d4",
   "metadata": {},
   "outputs": [
    {
     "name": "stdout",
     "output_type": "stream",
     "text": [
      "500\n"
     ]
    }
   ],
   "source": [
    "println(n_samples(p))"
   ]
  },
  {
   "cell_type": "markdown",
   "id": "bbb1644a",
   "metadata": {},
   "source": [
    "## `VariantIterator`\n",
    "\n",
    "Genotype information of each variant is compressed separately in PGEN files. The offsets (starting points in pgen file) of each variant can be inferred from the header. A way to iterate over variants in a PGEN file is provided through a `VariantIterator` object, created by the function `iterator()`. "
   ]
  },
  {
   "cell_type": "code",
   "execution_count": 5,
   "id": "5828cee1",
   "metadata": {},
   "outputs": [],
   "source": [
    "v_iter = iterator(p);"
   ]
  },
  {
   "cell_type": "markdown",
   "id": "f4a72def",
   "metadata": {},
   "source": [
    "One may check index, offset (starting point of each variant record), record type (how each variant record is comprssed and what type of information it has), and length of each variant using the following code:"
   ]
  },
  {
   "cell_type": "code",
   "execution_count": 6,
   "id": "9b86cabc",
   "metadata": {},
   "outputs": [
    {
     "name": "stdout",
     "output_type": "stream",
     "text": [
      "Variant 1: offset 617, type 0x60, length 1186\n",
      "Variant 2: offset 1803, type 0x60, length 1182\n",
      "Variant 3: offset 2985, type 0x41, length 1098\n",
      "Variant 4: offset 4083, type 0x60, length 1182\n",
      "Variant 5: offset 5265, type 0x60, length 1184\n",
      "Variant 6: offset 6449, type 0x60, length 1186\n",
      "Variant 7: offset 7635, type 0x44, length 1057\n",
      "Variant 8: offset 8692, type 0x61, length 1146\n",
      "Variant 9: offset 9838, type 0x61, length 1120\n",
      "Variant 10: offset 10958, type 0x60, length 1184\n",
      "Variant 11: offset 12142, type 0x61, length 1144\n",
      "Variant 12: offset 13286, type 0x40, length 1125\n",
      "Variant 13: offset 14411, type 0x41, length 1078\n",
      "Variant 14: offset 15489, type 0x40, length 1125\n",
      "Variant 15: offset 16614, type 0x41, length 1079\n",
      "Variant 16: offset 17693, type 0x66, length 1115\n",
      "Variant 17: offset 18808, type 0x60, length 1186\n",
      "Variant 18: offset 19994, type 0x44, length 1056\n",
      "Variant 19: offset 21050, type 0x60, length 1186\n",
      "Variant 20: offset 22236, type 0x46, length 1060\n",
      "Variant 21: offset 23296, type 0x61, length 1145\n",
      "Variant 22: offset 24441, type 0x61, length 1147\n",
      "Variant 23: offset 25588, type 0x44, length 1034\n",
      "Variant 24: offset 26622, type 0x41, length 1072\n",
      "Variant 25: offset 27694, type 0x41, length 1084\n",
      "Variant 26: offset 28778, type 0x40, length 1125\n",
      "Variant 27: offset 29903, type 0x61, length 1162\n",
      "Variant 28: offset 31065, type 0x44, length 1011\n",
      "Variant 29: offset 32076, type 0x41, length 1083\n",
      "Variant 30: offset 33159, type 0x40, length 1125\n",
      "Variant 31: offset 34284, type 0x61, length 1129\n",
      "Variant 32: offset 35413, type 0x44, length 1055\n",
      "Variant 33: offset 36468, type 0x61, length 1118\n",
      "Variant 34: offset 37586, type 0x60, length 1184\n",
      "Variant 35: offset 38770, type 0x40, length 1125\n",
      "Variant 36: offset 39895, type 0x60, length 1184\n",
      "Variant 37: offset 41079, type 0x61, length 1154\n",
      "Variant 38: offset 42233, type 0x40, length 1125\n",
      "Variant 39: offset 43358, type 0x60, length 1184\n",
      "Variant 40: offset 44542, type 0x41, length 1079\n",
      "Variant 41: offset 45621, type 0x41, length 1076\n",
      "Variant 42: offset 46697, type 0x61, length 1142\n",
      "Variant 43: offset 47839, type 0x60, length 1186\n",
      "Variant 44: offset 49025, type 0x61, length 1155\n",
      "Variant 45: offset 50180, type 0x41, length 1078\n",
      "Variant 46: offset 51258, type 0x40, length 1125\n",
      "Variant 47: offset 52383, type 0x41, length 1068\n",
      "Variant 48: offset 53451, type 0x41, length 1077\n",
      "Variant 49: offset 54528, type 0x40, length 1125\n",
      "Variant 50: offset 55653, type 0x60, length 1186\n",
      "Variant 51: offset 56839, type 0x40, length 1125\n",
      "Variant 52: offset 57964, type 0x41, length 1079\n",
      "Variant 53: offset 59043, type 0x41, length 1099\n",
      "Variant 54: offset 60142, type 0x60, length 1186\n",
      "Variant 55: offset 61328, type 0x40, length 1125\n",
      "Variant 56: offset 62453, type 0x40, length 1125\n",
      "Variant 57: offset 63578, type 0x40, length 1125\n",
      "Variant 58: offset 64703, type 0x40, length 1125\n",
      "Variant 59: offset 65828, type 0x40, length 1125\n",
      "Variant 60: offset 66953, type 0x61, length 1126\n",
      "Variant 61: offset 68079, type 0x60, length 1186\n",
      "Variant 62: offset 69265, type 0x40, length 1125\n",
      "Variant 63: offset 70390, type 0x44, length 1029\n",
      "Variant 64: offset 71419, type 0x40, length 1125\n",
      "Variant 65: offset 72544, type 0x60, length 1186\n",
      "Variant 66: offset 73730, type 0x60, length 1186\n",
      "Variant 67: offset 74916, type 0x40, length 1125\n",
      "Variant 68: offset 76041, type 0x41, length 1101\n",
      "Variant 69: offset 77142, type 0x61, length 1146\n",
      "Variant 70: offset 78288, type 0x60, length 1180\n",
      "Variant 71: offset 79468, type 0x41, length 1072\n",
      "Variant 72: offset 80540, type 0x44, length 1016\n",
      "Variant 73: offset 81556, type 0x60, length 1186\n",
      "Variant 74: offset 82742, type 0x44, length 1045\n",
      "Variant 75: offset 83787, type 0x40, length 1125\n",
      "Variant 76: offset 84912, type 0x40, length 1125\n",
      "Variant 77: offset 86037, type 0x41, length 1070\n",
      "Variant 78: offset 87107, type 0x60, length 1186\n",
      "Variant 79: offset 88293, type 0x61, length 1142\n",
      "Variant 80: offset 89435, type 0x44, length 1072\n",
      "Variant 81: offset 90507, type 0x41, length 1071\n",
      "Variant 82: offset 91578, type 0x60, length 1186\n",
      "Variant 83: offset 92764, type 0x41, length 1086\n",
      "Variant 84: offset 93850, type 0x40, length 1125\n",
      "Variant 85: offset 94975, type 0x61, length 1147\n",
      "Variant 86: offset 96122, type 0x41, length 1088\n",
      "Variant 87: offset 97210, type 0x60, length 1186\n",
      "Variant 88: offset 98396, type 0x40, length 1125\n",
      "Variant 89: offset 99521, type 0x44, length 1062\n",
      "Variant 90: offset 100583, type 0x40, length 1125\n",
      "Variant 91: offset 101708, type 0x41, length 1080\n",
      "Variant 92: offset 102788, type 0x46, length 1022\n",
      "Variant 93: offset 103810, type 0x40, length 1125\n",
      "Variant 94: offset 104935, type 0x60, length 1182\n",
      "Variant 95: offset 106117, type 0x40, length 1125\n",
      "Variant 96: offset 107242, type 0x40, length 1125\n",
      "Variant 97: offset 108367, type 0x61, length 1150\n",
      "Variant 98: offset 109517, type 0x41, length 1071\n",
      "Variant 99: offset 110588, type 0x60, length 1186\n",
      "Variant 100: offset 111774, type 0x60, length 1186\n",
      "Variant 101: offset 112960, type 0x40, length 1125\n",
      "Variant 102: offset 114085, type 0x40, length 1125\n",
      "Variant 103: offset 115210, type 0x61, length 1159\n",
      "Variant 104: offset 116369, type 0x60, length 1182\n",
      "Variant 105: offset 117551, type 0x60, length 1182\n",
      "Variant 106: offset 118733, type 0x60, length 1186\n",
      "Variant 107: offset 119919, type 0x46, length 1057\n",
      "Variant 108: offset 120976, type 0x41, length 1085\n",
      "Variant 109: offset 122061, type 0x61, length 1118\n",
      "Variant 110: offset 123179, type 0x60, length 1186\n",
      "Variant 111: offset 124365, type 0x61, length 1146\n",
      "Variant 112: offset 125511, type 0x40, length 1125\n",
      "Variant 113: offset 126636, type 0x41, length 1078\n",
      "Variant 114: offset 127714, type 0x40, length 1125\n",
      "Variant 115: offset 128839, type 0x41, length 1079\n",
      "Variant 116: offset 129918, type 0x44, length 1054\n",
      "Variant 117: offset 130972, type 0x60, length 1182\n",
      "Variant 118: offset 132154, type 0x46, length 1056\n",
      "Variant 119: offset 133210, type 0x60, length 1186\n",
      "Variant 120: offset 134396, type 0x44, length 1060\n",
      "Variant 121: offset 135456, type 0x61, length 1147\n",
      "Variant 122: offset 136603, type 0x61, length 1147\n",
      "Variant 123: offset 137750, type 0x46, length 1034\n",
      "Variant 124: offset 138784, type 0x41, length 1072\n",
      "Variant 125: offset 139856, type 0x41, length 1084\n",
      "Variant 126: offset 140940, type 0x40, length 1125\n",
      "Variant 127: offset 142065, type 0x61, length 1160\n",
      "Variant 128: offset 143225, type 0x46, length 1011\n",
      "Variant 129: offset 144236, type 0x41, length 1083\n",
      "Variant 130: offset 145319, type 0x60, length 1186\n",
      "Variant 131: offset 146505, type 0x41, length 1068\n",
      "Variant 132: offset 147573, type 0x46, length 1055\n",
      "Variant 133: offset 148628, type 0x61, length 1122\n",
      "Variant 134: offset 149750, type 0x60, length 1182\n",
      "Variant 135: offset 150932, type 0x40, length 1125\n",
      "Variant 136: offset 152057, type 0x60, length 1186\n",
      "Variant 137: offset 153243, type 0x61, length 1152\n",
      "Variant 138: offset 154395, type 0x40, length 1125\n",
      "Variant 139: offset 155520, type 0x60, length 1184\n",
      "Variant 140: offset 156704, type 0x61, length 1140\n",
      "Variant 141: offset 157844, type 0x41, length 1076\n",
      "Variant 142: offset 158920, type 0x61, length 1142\n",
      "Variant 143: offset 160062, type 0x60, length 1186\n",
      "Variant 144: offset 161248, type 0x61, length 1153\n",
      "Variant 145: offset 162401, type 0x41, length 1078\n",
      "Variant 146: offset 163479, type 0x40, length 1125\n",
      "Variant 147: offset 164604, type 0x41, length 1068\n",
      "Variant 148: offset 165672, type 0x41, length 1077\n",
      "Variant 149: offset 166749, type 0x40, length 1125\n",
      "Variant 150: offset 167874, type 0x60, length 1186\n",
      "Variant 151: offset 169060, type 0x40, length 1125\n",
      "Variant 152: offset 170185, type 0x41, length 1079\n",
      "Variant 153: offset 171264, type 0x61, length 1160\n",
      "Variant 154: offset 172424, type 0x60, length 1186\n",
      "Variant 155: offset 173610, type 0x40, length 1125\n",
      "Variant 156: offset 174735, type 0x40, length 1125\n",
      "Variant 157: offset 175860, type 0x40, length 1125\n",
      "Variant 158: offset 176985, type 0x40, length 1125\n",
      "Variant 159: offset 178110, type 0x60, length 1186\n",
      "Variant 160: offset 179296, type 0x61, length 1124\n",
      "Variant 161: offset 180420, type 0x60, length 1186\n",
      "Variant 162: offset 181606, type 0x40, length 1125\n",
      "Variant 163: offset 182731, type 0x46, length 1029\n",
      "Variant 164: offset 183760, type 0x40, length 1125\n",
      "Variant 165: offset 184885, type 0x40, length 1125\n",
      "Variant 166: offset 186010, type 0x60, length 1186\n",
      "Variant 167: offset 187196, type 0x60, length 1186\n",
      "Variant 168: offset 188382, type 0x41, length 1101\n",
      "Variant 169: offset 189483, type 0x61, length 1146\n",
      "Variant 170: offset 190629, type 0x60, length 1184\n",
      "Variant 171: offset 191813, type 0x41, length 1072\n",
      "Variant 172: offset 192885, type 0x46, length 1016\n",
      "Variant 173: offset 193901, type 0x60, length 1184\n",
      "Variant 174: offset 195085, type 0x46, length 1045\n",
      "Variant 175: offset 196130, type 0x60, length 1186\n",
      "Variant 176: offset 197316, type 0x40, length 1125\n",
      "Variant 177: offset 198441, type 0x41, length 1070\n",
      "Variant 178: offset 199511, type 0x60, length 1184\n",
      "Variant 179: offset 200695, type 0x61, length 1142\n",
      "Variant 180: offset 201837, type 0x46, length 1072\n",
      "Variant 181: offset 202909, type 0x61, length 1132\n",
      "Variant 182: offset 204041, type 0x60, length 1186\n",
      "Variant 183: offset 205227, type 0x41, length 1086\n",
      "Variant 184: offset 206313, type 0x40, length 1125\n",
      "Variant 185: offset 207438, type 0x41, length 1088\n",
      "Variant 186: offset 208526, type 0x41, length 1088\n",
      "Variant 187: offset 209614, type 0x60, length 1184\n",
      "Variant 188: offset 210798, type 0x40, length 1125\n",
      "Variant 189: offset 211923, type 0x46, length 1062\n",
      "Variant 190: offset 212985, type 0x60, length 1186\n",
      "Variant 191: offset 214171, type 0x41, length 1080\n",
      "Variant 192: offset 215251, type 0x44, length 1022\n",
      "Variant 193: offset 216273, type 0x40, length 1125\n",
      "Variant 194: offset 217398, type 0x60, length 1186\n",
      "Variant 195: offset 218584, type 0x40, length 1125\n",
      "Variant 196: offset 219709, type 0x40, length 1125\n",
      "Variant 197: offset 220834, type 0x61, length 1152\n",
      "Variant 198: offset 221986, type 0x41, length 1071\n",
      "Variant 199: offset 223057, type 0x60, length 1184\n"
     ]
    }
   ],
   "source": [
    "for v in v_iter\n",
    "    println(\"Variant $(v.index): offset $(v.offset), type 0x$(string(v.record_type, base=16)),\" * \n",
    "        \" length $(v.length)\")\n",
    "end"
   ]
  },
  {
   "cell_type": "markdown",
   "id": "27a5b78c",
   "metadata": {},
   "source": [
    "More information on each variant is available in the attached `.pvar` file. "
   ]
  },
  {
   "cell_type": "markdown",
   "id": "b0f0e9b1",
   "metadata": {},
   "source": [
    "## Genotypes and dosages\n",
    "\n",
    "Genotypes of each variant is available through the function `get_genotypes()` or `get_genotypes!()`. For example, to obtain the genotypes of the first variant, one may do:"
   ]
  },
  {
   "cell_type": "code",
   "execution_count": 7,
   "id": "27215447",
   "metadata": {},
   "outputs": [
    {
     "data": {
      "text/plain": [
       "(UInt8[0x03, 0x00, 0x00, 0x01, 0x00, 0x03, 0x01, 0x00, 0x03, 0x03  …  0x00, 0x01, 0x00, 0x01, 0x00, 0x00, 0x01, 0x00, 0x03, 0x01], UInt8[0x43, 0x1c, 0xff, 0x14, 0xc7, 0x0f, 0x00, 0x30, 0x01, 0x04  …  0xdc, 0x03, 0xd3, 0x42, 0x9e, 0x03, 0x07, 0x79, 0x4b, 0x3f], 0x000000000000007d)"
      ]
     },
     "execution_count": 7,
     "metadata": {},
     "output_type": "execute_result"
    }
   ],
   "source": [
    "v = first(v_iter)\n",
    "g, data, offset = get_genotypes(p, v)"
   ]
  },
  {
   "cell_type": "markdown",
   "id": "1cf4e904",
   "metadata": {},
   "source": [
    "`g` stores the genotypes, `data` is the variant record for `v`, and `offset` indicates where the track for genotypes ended. Encoding for `g` is as following:"
   ]
  },
  {
   "cell_type": "markdown",
   "id": "b5931eea",
   "metadata": {},
   "source": [
    "| genotype code | genotype category | \n",
    "|:---:|:---:|\n",
    "| `0x00` | homozygous REF | \n",
    "| `0x01` | heterozygous REF-ALT |\n",
    "| `0x02` | homozygous ALT |\n",
    "| `0x03` | missing |"
   ]
  },
  {
   "cell_type": "markdown",
   "id": "c4b25e14",
   "metadata": {},
   "source": [
    "To avoid array allocations for iterative genotype extraction, one may preallocate `g` and reuse it. As some of the variants are LD-compressed, an additional genotype buffer to keep the genotypes for the most recent non-LD-compressed variant may be desirable (`g_ld`). If `g_ld` is not provided, it will parse the genotypes of the most recent non-LD-compressed variant (stored in an internal dictionary) first.\n",
    "\n",
    "For example:"
   ]
  },
  {
   "cell_type": "code",
   "execution_count": 8,
   "id": "3ff0fe16",
   "metadata": {},
   "outputs": [],
   "source": [
    "g = Vector{UInt8}(undef, n_samples(p))\n",
    "g_ld = similar(g)\n",
    "for v in v_iter\n",
    "    get_genotypes!(g, p, v; ldbuf=g_ld)\n",
    "    v_rt = v.record_type & 0x07\n",
    "    if v_rt != 0x02 && v_rt != 0x03 # non-LD-compressed. See Format description.\n",
    "        g_ld .= g\n",
    "    end\n",
    "    \n",
    "    # do someting with genotypes in `g`...\n",
    "end"
   ]
  },
  {
   "cell_type": "markdown",
   "id": "d7c1e6c3",
   "metadata": {},
   "source": [
    "Similarly, ALT allele dosages are available through the function `alt_allele_dosage()` and `alt_allele_dosage!()`. As genotype information is required to retrieve dosages, space for genotypes are also required for `alt_allele_dosage!()`. These functions return dosages, parsed genotypes, and endpoint of the dosage information in the current variant record.\n",
    "\n",
    "To obtain the dosages of the first variant: "
   ]
  },
  {
   "cell_type": "code",
   "execution_count": 9,
   "id": "af16f05d",
   "metadata": {},
   "outputs": [
    {
     "data": {
      "text/plain": [
       "(Float32[NaN, 0.06427002, 0.08441162, 0.98254395, 0.08843994, 0.14111328, 1.0733032, 0.054138184, 0.10858154, 0.12310791  …  0.029785156, 0.9661255, 0.00079345703, 1.0126343, 0.042663574, 0.060302734, 1.0441284, 0.056518555, 1.8910522, 0.98895264], UInt8[0x03, 0x00, 0x00, 0x01, 0x00, 0x03, 0x01, 0x00, 0x03, 0x03  …  0x00, 0x01, 0x00, 0x01, 0x00, 0x00, 0x01, 0x00, 0x03, 0x01], 0x00000000000004a2)"
      ]
     },
     "execution_count": 9,
     "metadata": {},
     "output_type": "execute_result"
    }
   ],
   "source": [
    "v = first(v_iter)\n",
    "d, g, offset = alt_allele_dosage(p, v)"
   ]
  },
  {
   "cell_type": "markdown",
   "id": "fabee6e2",
   "metadata": {},
   "source": [
    "Missing value is represented by a `NaN`. Code for a typical GWAS application should look like:"
   ]
  },
  {
   "cell_type": "code",
   "execution_count": 10,
   "id": "8b15d69e",
   "metadata": {},
   "outputs": [],
   "source": [
    "d = Vector{Float32}(undef, n_samples(p))\n",
    "g = Vector{UInt8}(undef, n_samples(p))\n",
    "g_ld = similar(g)\n",
    "for v in v_iter\n",
    "    alt_allele_dosage!(d, g, p, v; genoldbuf=g_ld)\n",
    "    v_rt = v.record_type & 0x07\n",
    "    if v_rt != 0x02 && v_rt != 0x03 # non-LD-compressed. See Format description.\n",
    "        g_ld .= g\n",
    "    end\n",
    "    \n",
    "    # do someting with dosage values in `d`...\n",
    "end"
   ]
  },
  {
   "cell_type": "markdown",
   "id": "f2e99aca",
   "metadata": {},
   "source": [
    "## Speed\n",
    "\n",
    "The current PGEN package can read in ~2000 variants / second for UK Biobank data, which is about 4x faster than reading in BGEN-formatted data. "
   ]
  }
 ],
 "metadata": {
  "kernelspec": {
   "display_name": "Julia 1.7.1",
   "language": "julia",
   "name": "julia-1.7"
  },
  "language_info": {
   "file_extension": ".jl",
   "mimetype": "application/julia",
   "name": "julia",
   "version": "1.7.1"
  }
 },
 "nbformat": 4,
 "nbformat_minor": 5
}
