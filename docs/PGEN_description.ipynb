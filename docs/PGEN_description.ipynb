{
 "cells": [
  {
   "cell_type": "markdown",
   "id": "532d0762",
   "metadata": {},
   "source": [
    "# The PGEN format\n",
    "\n",
    "Content on this page is based on the [draft specification](https://github.com/chrchang/plink-ng/raw/master/pgen_spec/pgen_spec.pdf), distributed under GPLv3. "
   ]
  },
  {
   "cell_type": "markdown",
   "id": "8c797ad4",
   "metadata": {},
   "source": [
    "## Introduction"
   ]
  },
  {
   "cell_type": "markdown",
   "id": "f81d7813",
   "metadata": {},
   "source": [
    "The PGEN format is the central file format for genomic data in PLINK 2. \n",
    "\n",
    "- PLINK 1’s binary genotype file format (the BED format, can be read using [SnpArrays.jl](https://github.com/OpenMendel/SnpArrays.jl))\n",
    "    - Simple, compact, and supports direct computation on the packed data representation. Thanks to these properties, it continues to be widely used more than a decade after it was designed.\n",
    "    - Limitation: can only represent unphased biallelic hard-called genotypes.\n",
    "        - suboptimal for GWASes which tend to benefit from inclusion of imputed dosages and more sophicated handling of multiallelic variants\n",
    "        - cannot represent phase information for workflows like investigation of compound heterozygosity, imputation-related data management, etc.\n",
    "\n",
    "The widely-used binary genotype formats which addresses limitations above include BCF format and BGEN format, but they do not support direct computation on packed data, impossible to match efficiency of PLINK 1.9. \n",
    "    \n",
    "Hence, PLINK 2 decided to introduce a new binary genotype file format, the PGEN format. \n",
    "\n",
    "- Backward-compatible to BED format\n",
    "- Can represent phased, multiallelic, and dosage data in a manner that better support [\"compressive genomics\"](https://www.nature.com/articles/nbt.2241)\n",
    "- Incorporates \"[SNPack](https://sysbiobig.dei.unipd.it/software/?q=software#SNPack)-style\" genotype compression, reducing file sizes by 80+% with negligible encoding and decoding cost (and supporting some direct computation on the compressed representation)\n",
    "\n",
    "Not as simple as PLINK 1 format, but now it includes open-source internal library (pgenlib) to read and write the format. \n",
    "\n",
    "Also introduced are: \n",
    "- PSAM format, an extension of `.fam` format\n",
    "    - Stores categorical and other phenotype/covariates\n",
    "- PVAR format, an extension of `.bim` format.\n",
    "    - Stores all header and variant-specific information. \n",
    "    - Designed so that \"sites-only VCF\" files are directly valid PVAR files."
   ]
  },
  {
   "cell_type": "markdown",
   "id": "19ed086d",
   "metadata": {},
   "source": [
    "## PGEN format\n"
   ]
  },
  {
   "cell_type": "markdown",
   "id": "ad2d4b4c",
   "metadata": {},
   "source": [
    "Binary format capable of representing mixed-phase, multiallelic, mixed-hardcall/dosage/missing genotype data.\n",
    "\n",
    "- A PLINK 1 variant-major .bed file is grandfathered in as a valid PGEN file. Simple to handle with the PGEN format definition.\n",
    "- PGEN(+PVAR) is designed to interoperate with, not replace, VCF/BCF. \n",
    "    - PGEN cannot represent: read depths, quality scores, or biallelic genotype probability triplets, or triploid genotypes. \n",
    "    - It specializes on the subset of the VCF format which is relevant to PLINK’s function. \n",
    "    - Fast VCF ↔ PGEN conversion in PLINK 2."
   ]
  },
  {
   "cell_type": "markdown",
   "id": "9b923764",
   "metadata": {},
   "source": [
    "### File organization"
   ]
  },
  {
   "cell_type": "markdown",
   "id": "f3bf90dd",
   "metadata": {},
   "source": [
    "- Header: information to enable random access to the variant record: e.g., record types and record length of each variant.\n",
    "    - Here, record type means how the genotype is compressed, if it contains phase and dosage information, etc. \n",
    "- A sequence of variant records.\n",
    "\n",
    "\n",
    "A variant record’s main data track can be “LD-compressed” (LD = linkage disequilibrium):\n",
    "- Most recent non-LD-compressed variant record and only storing genotype-category differences from it. \n",
    "    - The only type of inter-record dependency, \n",
    "- Record type and size information in the header, and the genotypes from the latest non-LD-compressed variant is enough to decode genotypes of each variant sequentially.\n",
    "\n",
    "<!--\n",
    "Three fixed-width storage modes are defined (covering basic unphased biallelic genotypes, unphased dosages, and phased dosages) which don’t have this limitation, and are especially straightforward\n",
    "to read and write; but they don’t benefit from PGEN’s low-overhead genotype compression. A future version of this\n",
    "specification may add a way to store most header information in a separate file, so that sequential reading, sequential\n",
    "writing, and genotype compression are simultaneously possible (at the cost of more annoying file management).-->"
   ]
  },
  {
   "cell_type": "markdown",
   "id": "4817162d",
   "metadata": {},
   "source": [
    "### Header\n"
   ]
  },
  {
   "cell_type": "markdown",
   "id": "aad47fb3",
   "metadata": {},
   "source": [
    "- Magic number: `0x6c 0x1b`. \n",
    "- Storage mode\n",
    "    - `0x01`: PLINK 1 BED format. Supported in `SnpArrays.jl`.\n",
    "    - `0x02`: the simplest PLINK 2 fixed-width format for unphased genotypes. Difference from `0x01` are header and genotype encoding rule.\n",
    "    - `0x03`: fixed-width unphased dosage\n",
    "    - `0x04`: fixed-width phased dosage\n",
    "    - __`0x10`__: standard variable-width format. Vast majority of the PLINK 2 files will be in this mode. __Currently, only this mode is supported in `PGEN.jl`__. \n",
    "- Dataset dimensions, header body formatting\n",
    "    - number of variants, samples, bits per record type, bytes per allele counts (for multiallelic variants), if reference alleles are provisional, etc.\n",
    "- Variant block offsets\n",
    "    - Where each block of $2^{16}$ = 65,536 variant records begin. i.e. starting point of variant 1, 65_537, 131_073, ... \n",
    "- Main header body\n",
    "    - Packed array of $2^{16}$ record types, lengths, etc. \n",
    "    \n",
    "e.g., random access to 65540-th (65536 + 4) variant can be achieved by scannig for the 2nd entry of Variant block offsets and then scanning the first four entries of main header body. The starting point of the variant is calculated by the start of the second variant block plus first three variant record lengths. "
   ]
  },
  {
   "cell_type": "markdown",
   "id": "435d8ae3",
   "metadata": {},
   "source": [
    "### Variant record\n",
    "\n",
    "Each variant record starts with the main track for unphased biallelic hard-call genotypes, followed by the ten optional tracks:\n",
    "1. Multiallelic hard-calls\n",
    "2. Hardcall-phase information\n",
    "3. Biallelic dosage existence\n",
    "4. Biallelic dosage values\n",
    "5. Multiallelic dosage existence\n",
    "6. Multiallelic dosage values\n",
    "7. Biallelic phased-dosage existence\n",
    "8. Biallelic phased-dosage values\n",
    "9. Multiallelic phased-dosage existence\n",
    "10. Multiallelic phased-dosage values\n",
    "\n",
    "\n",
    "### Difflists\n",
    "Many genotypes and dosages are compressed in a __difflist__. It is designed to represent a sparse list of differences from something else. It does so in a manner that is compact, and supports fast checking of whether a specific sample ID is in the list. Struct for difflist is in the struct `DiffList`. \n",
    "\n",
    "### Main track\n",
    "\n",
    "Each genotype is represented in two-bit little-endian ordering: e.g., the for the two bytes of `0x1b 0xd8` for 8 samples:\n",
    "\n",
    "```\n",
    "byte 1         byte 2\n",
    "0x1b           0xd8\n",
    "00 01 10 11    11 01 10 00\n",
    "s4 s3 s2 s1    s8 s7 s6 s5\n",
    "```\n",
    "\n",
    "| Sample index (1-based) | genotype category | \n",
    "|:---:|:---:|\n",
    "| 1 | `0b11` |\n",
    "| 2 | `0b10` |\n",
    "| 3 | `0b01` |\n",
    "| 4 | `0b00` |\n",
    "| 5 | `0b00` |\n",
    "| 6 | `0b10` |\n",
    "| 7 | `0b01` |\n",
    "| 8 | `0b11` |\n",
    "\n",
    "| genotype category | PLINK 1 | PLINK 2 | \n",
    "|:---:|:---:|:---:|\n",
    "| 0 = `0b00` = `0x00` | homozygous A1 | homozygous REF | \n",
    "| 1 = `0b01` = `0x01` | missing | heterozygous REF-ALT |\n",
    "| 2 = `0b10` = `0x02` | heterozygouus A1-A2 | homozygous ALT |\n",
    "| 3 = `0b11` = `0x03` | homozygous A2 | missing |\n",
    " \n",
    " - A1: First allele listed in PLINK 1 bim file\n",
    " - A2: Second allele listed in PLINK 1 bim file\n",
    " - REF: Reference allele\n",
    " - ALT: Alternate allele\n",
    " \n",
    "In PLINK 1, A1 was often ALT, and A2 was often REF. However, this was not set in stone. In UK Biobank data, A1 is REF and A2 is ALT. \n",
    "\n",
    "Seven record types are supported, represented by the bottom three bits of record type:\n",
    "\n",
    "- `0`: no compression.\n",
    "- `1`: “1-bit” representation. This starts with a byte indicating what the two most common categories are (value 1: categories 0 and 1; 2: 0 and 2; 3: 0 and 3; 5: 1 and 2; 6: 1 and 3; 9: 2 and 3); followed by a bitarray describing which samples are in the higher-numbered category; followed by a difflist with all (sample ID, genotype category value) pairs for the two less common categories.\n",
    "- `2`: LD-compressed. A difflist with all (sample ID, genotype category value) pairs for samples in different categories than they were in in the previous non-LD-compressed variant. The first variant of a variant block (i.e. its index is congruent to 0 mod $2^{16}$) cannot be LD-compressed.\n",
    "- `3`: LD-compressed, inverted. A difflist with all (sample ID, inverted genotype value) pairs for samples in different categories than they would be in the previous non-LD-compressed variant after inversion (categories 0 and 2 swapped). I.e. decoding can be handled in the same way as for variant record type 2, except for a final inversion step applied after the difflist contents have been patched in. This addresses spots where the reference genome is “wrong” for the population of interest.\n",
    "- `4`: Difflist with all (sample ID, genotype category value) pairs for samples outside category 0.\n",
    "- ~~`5`: Reserved for future use. (When all samples appear to be in category 1, that usually implies a systematic variant calling problem.)~~\n",
    "- `6`: Difflist with all (sample ID, genotype category value) pairs for samples outside category 2.\n",
    "- `7`: Difflist with all (sample ID, genotype category value) pairs for samples outside category 3"
   ]
  },
  {
   "cell_type": "markdown",
   "id": "00a2040c",
   "metadata": {},
   "source": [
    "### Multiallelic hardcalls\n",
    "Exists if the 4th bit of variant record type is set. Based on the main track, it defines a \"patch set\" in the form of difflist which sample has alternate allele other than \"ALT1\". \n",
    "\n",
    "###  Phased heterozygous hard-calls\n",
    "Exists if the 5th bit of variant record type is set. Stores whether each heterozygous call is phased, and if phased, what the phase is. \"`0|1`\" or \"`1|0`\". PGEN does not distinguish \"`0|0`\" from \"`0/0`\", and \"`1|1`\" from \"`1/1`\". \n",
    "\n",
    "### Dosages\n",
    "Dosages are stored in 16-bit integers (`UInt16`). `0x0000`...`0x8000`($2^{15}$) represent diploid ALT allele dosage values between `0.0`..`2.0`. `0xffff` represents missing value. Three record types are supported, based on 6th and 7th bits of record type. Dosages are required to be consistent with hard-calls (should be close enough from genotype).\n",
    "\n",
    "- 6th bit is set and 7th bit is clear: Track 3 (Biallelic dosage existence) is a difflist indicating which samples have dosage information. \n",
    "- 6th bit is clear and 7th bit is set: Track 3 is omitted and Track 4 (Biallelic dosage values) has an entry for every single sample.\n",
    "- 6th bit and 7th bit are both set: Track 3 is a BitArray indicating dosage for which sample exists. \n",
    "\n",
    "Samples without dosage values are assumed to have dosage level identical to their respective genotypes."
   ]
  }
 ],
 "metadata": {
  "kernelspec": {
   "display_name": "Julia 1.7.1",
   "language": "julia",
   "name": "julia-1.7"
  },
  "language_info": {
   "file_extension": ".jl",
   "mimetype": "application/julia",
   "name": "julia",
   "version": "1.7.1"
  }
 },
 "nbformat": 4,
 "nbformat_minor": 5
}
